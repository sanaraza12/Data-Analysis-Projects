{
 "cells": [
  {
   "cell_type": "markdown",
   "id": "a02c06a0",
   "metadata": {},
   "source": [
    "# Analyzing Customer Footfall Patterns Using Sensor Data"
   ]
  },
  {
   "cell_type": "markdown",
   "id": "82b30c59",
   "metadata": {},
   "source": [
    "Assume that a small supermarket owner wants to study the number of people that come to the store for shopping each day. The supermarket is equipped with sensors that can record the number of customers in the shop at any given time. Suppose that the data in the attached Excel sheet (\"Customers.xlsx\") shows the number of customers recorded at particular points in time over 30-day period in January 2023.\n",
    "Your task in this exercise is to do the following:\n",
    "1. Write a program that creates three new variables/columns called “day”, “hour”, and “period”, from the “date_time” column. These should respectively include, the day, hour, and period in which the store sensors captured the number of customers.\n",
    "\n",
    "2. Explore the data numerically (using appropriate statistical measures with Pandas) and visually (using appropriate visualization plots with Seaborn) to understand customer shopping patterns, i.e., how the number of customers is related to the day of the week, the hour of the day, and the time period. Interprett obtained numerical and visual insights."
   ]
  },
  {
   "cell_type": "code",
   "execution_count": 20,
   "id": "29d906b4",
   "metadata": {},
   "outputs": [
    {
     "data": {
      "text/html": [
       "<div>\n",
       "<style scoped>\n",
       "    .dataframe tbody tr th:only-of-type {\n",
       "        vertical-align: middle;\n",
       "    }\n",
       "\n",
       "    .dataframe tbody tr th {\n",
       "        vertical-align: top;\n",
       "    }\n",
       "\n",
       "    .dataframe thead th {\n",
       "        text-align: right;\n",
       "    }\n",
       "</style>\n",
       "<table border=\"1\" class=\"dataframe\">\n",
       "  <thead>\n",
       "    <tr style=\"text-align: right;\">\n",
       "      <th></th>\n",
       "      <th>date_time</th>\n",
       "      <th>No_of_customers</th>\n",
       "      <th>day</th>\n",
       "      <th>hour</th>\n",
       "      <th>period</th>\n",
       "    </tr>\n",
       "  </thead>\n",
       "  <tbody>\n",
       "    <tr>\n",
       "      <th>0</th>\n",
       "      <td>2023-01-01 12:04:34</td>\n",
       "      <td>123</td>\n",
       "      <td>Sun</td>\n",
       "      <td>12</td>\n",
       "      <td>PM</td>\n",
       "    </tr>\n",
       "    <tr>\n",
       "      <th>1</th>\n",
       "      <td>2023-01-02 12:30:36</td>\n",
       "      <td>126</td>\n",
       "      <td>Mon</td>\n",
       "      <td>12</td>\n",
       "      <td>PM</td>\n",
       "    </tr>\n",
       "    <tr>\n",
       "      <th>2</th>\n",
       "      <td>2023-01-03 13:04:39</td>\n",
       "      <td>148</td>\n",
       "      <td>Tue</td>\n",
       "      <td>13</td>\n",
       "      <td>PM</td>\n",
       "    </tr>\n",
       "    <tr>\n",
       "      <th>3</th>\n",
       "      <td>2023-01-04 13:30:36</td>\n",
       "      <td>170</td>\n",
       "      <td>Wed</td>\n",
       "      <td>13</td>\n",
       "      <td>PM</td>\n",
       "    </tr>\n",
       "    <tr>\n",
       "      <th>4</th>\n",
       "      <td>2023-01-05 14:03:38</td>\n",
       "      <td>189</td>\n",
       "      <td>Thu</td>\n",
       "      <td>14</td>\n",
       "      <td>PM</td>\n",
       "    </tr>\n",
       "  </tbody>\n",
       "</table>\n",
       "</div>"
      ],
      "text/plain": [
       "            date_time  No_of_customers  day  hour period\n",
       "0 2023-01-01 12:04:34              123  Sun    12     PM\n",
       "1 2023-01-02 12:30:36              126  Mon    12     PM\n",
       "2 2023-01-03 13:04:39              148  Tue    13     PM\n",
       "3 2023-01-04 13:30:36              170  Wed    13     PM\n",
       "4 2023-01-05 14:03:38              189  Thu    14     PM"
      ]
     },
     "execution_count": 20,
     "metadata": {},
     "output_type": "execute_result"
    }
   ],
   "source": [
    "import pandas as pd #Pandas library, which is used to create and manipulate DataFrames\n",
    "import datetime #datetime library, which is used to manipulate date and time values\n",
    "\n",
    "df = pd.read_excel('customers.xlsx') #reads the Excel file customers.xlsx into a Pandas DataFrame\n",
    "df.head()"
   ]
  },
  {
   "cell_type": "code",
   "execution_count": 21,
   "id": "8eeffaf1",
   "metadata": {},
   "outputs": [
    {
     "data": {
      "text/html": [
       "<div>\n",
       "<style scoped>\n",
       "    .dataframe tbody tr th:only-of-type {\n",
       "        vertical-align: middle;\n",
       "    }\n",
       "\n",
       "    .dataframe tbody tr th {\n",
       "        vertical-align: top;\n",
       "    }\n",
       "\n",
       "    .dataframe thead th {\n",
       "        text-align: right;\n",
       "    }\n",
       "</style>\n",
       "<table border=\"1\" class=\"dataframe\">\n",
       "  <thead>\n",
       "    <tr style=\"text-align: right;\">\n",
       "      <th></th>\n",
       "      <th>date_time</th>\n",
       "      <th>No_of_customers</th>\n",
       "      <th>day</th>\n",
       "      <th>hour</th>\n",
       "      <th>period</th>\n",
       "    </tr>\n",
       "  </thead>\n",
       "  <tbody>\n",
       "    <tr>\n",
       "      <th>0</th>\n",
       "      <td>2023-01-01 12:04:34</td>\n",
       "      <td>123</td>\n",
       "      <td>Sun</td>\n",
       "      <td>12</td>\n",
       "      <td>PM</td>\n",
       "    </tr>\n",
       "    <tr>\n",
       "      <th>1</th>\n",
       "      <td>2023-01-02 12:30:36</td>\n",
       "      <td>126</td>\n",
       "      <td>Mon</td>\n",
       "      <td>12</td>\n",
       "      <td>PM</td>\n",
       "    </tr>\n",
       "    <tr>\n",
       "      <th>2</th>\n",
       "      <td>2023-01-03 13:04:39</td>\n",
       "      <td>148</td>\n",
       "      <td>Tue</td>\n",
       "      <td>13</td>\n",
       "      <td>PM</td>\n",
       "    </tr>\n",
       "    <tr>\n",
       "      <th>3</th>\n",
       "      <td>2023-01-04 13:30:36</td>\n",
       "      <td>170</td>\n",
       "      <td>Wed</td>\n",
       "      <td>13</td>\n",
       "      <td>PM</td>\n",
       "    </tr>\n",
       "    <tr>\n",
       "      <th>4</th>\n",
       "      <td>2023-01-05 14:03:38</td>\n",
       "      <td>189</td>\n",
       "      <td>Thu</td>\n",
       "      <td>14</td>\n",
       "      <td>PM</td>\n",
       "    </tr>\n",
       "  </tbody>\n",
       "</table>\n",
       "</div>"
      ],
      "text/plain": [
       "            date_time  No_of_customers  day  hour period\n",
       "0 2023-01-01 12:04:34              123  Sun    12     PM\n",
       "1 2023-01-02 12:30:36              126  Mon    12     PM\n",
       "2 2023-01-03 13:04:39              148  Tue    13     PM\n",
       "3 2023-01-04 13:30:36              170  Wed    13     PM\n",
       "4 2023-01-05 14:03:38              189  Thu    14     PM"
      ]
     },
     "execution_count": 21,
     "metadata": {},
     "output_type": "execute_result"
    }
   ],
   "source": [
    "df['day'] = df['date_time'].dt.strftime('%A').str[:3] \n",
    "\n",
    "#create 'day' column, format the date and time values in a DataFrame date_time to the abbreviated day name, only take first 3 characters of day name\n",
    "\n",
    "df['hour']=df['date_time'].dt.hour #create 'day' column, input date_time's hour\n",
    "\n",
    "def dperiod(hour): #dperiod() function takes an hour as input and returns the corresponding period (AM or PM)\n",
    "    if hour<12:\n",
    "        return 'AM'\n",
    "    else:\n",
    "        return 'PM'\n",
    "    \n",
    "df['period']=df['hour'].apply(dperiod) #applies the dperiod() function to the hour column in the DataFrame, create 'period' column\n",
    "df.to_excel('customers.xlsx', index=False)\n",
    "df.head()"
   ]
  },
  {
   "cell_type": "code",
   "execution_count": 22,
   "id": "5206913e",
   "metadata": {},
   "outputs": [
    {
     "data": {
      "text/html": [
       "<div>\n",
       "<style scoped>\n",
       "    .dataframe tbody tr th:only-of-type {\n",
       "        vertical-align: middle;\n",
       "    }\n",
       "\n",
       "    .dataframe tbody tr th {\n",
       "        vertical-align: top;\n",
       "    }\n",
       "\n",
       "    .dataframe thead th {\n",
       "        text-align: right;\n",
       "    }\n",
       "</style>\n",
       "<table border=\"1\" class=\"dataframe\">\n",
       "  <thead>\n",
       "    <tr style=\"text-align: right;\">\n",
       "      <th></th>\n",
       "      <th>No_of_customers</th>\n",
       "      <th>day</th>\n",
       "      <th>hour</th>\n",
       "      <th>period</th>\n",
       "    </tr>\n",
       "    <tr>\n",
       "      <th>date_time</th>\n",
       "      <th></th>\n",
       "      <th></th>\n",
       "      <th></th>\n",
       "      <th></th>\n",
       "    </tr>\n",
       "  </thead>\n",
       "  <tbody>\n",
       "    <tr>\n",
       "      <th>2023-01-01 12:04:34</th>\n",
       "      <td>123</td>\n",
       "      <td>Sun</td>\n",
       "      <td>12</td>\n",
       "      <td>PM</td>\n",
       "    </tr>\n",
       "    <tr>\n",
       "      <th>2023-01-02 12:30:36</th>\n",
       "      <td>126</td>\n",
       "      <td>Mon</td>\n",
       "      <td>12</td>\n",
       "      <td>PM</td>\n",
       "    </tr>\n",
       "    <tr>\n",
       "      <th>2023-01-03 13:04:39</th>\n",
       "      <td>148</td>\n",
       "      <td>Tue</td>\n",
       "      <td>13</td>\n",
       "      <td>PM</td>\n",
       "    </tr>\n",
       "    <tr>\n",
       "      <th>2023-01-04 13:30:36</th>\n",
       "      <td>170</td>\n",
       "      <td>Wed</td>\n",
       "      <td>13</td>\n",
       "      <td>PM</td>\n",
       "    </tr>\n",
       "    <tr>\n",
       "      <th>2023-01-05 14:03:38</th>\n",
       "      <td>189</td>\n",
       "      <td>Thu</td>\n",
       "      <td>14</td>\n",
       "      <td>PM</td>\n",
       "    </tr>\n",
       "  </tbody>\n",
       "</table>\n",
       "</div>"
      ],
      "text/plain": [
       "                     No_of_customers  day  hour period\n",
       "date_time                                             \n",
       "2023-01-01 12:04:34              123  Sun    12     PM\n",
       "2023-01-02 12:30:36              126  Mon    12     PM\n",
       "2023-01-03 13:04:39              148  Tue    13     PM\n",
       "2023-01-04 13:30:36              170  Wed    13     PM\n",
       "2023-01-05 14:03:38              189  Thu    14     PM"
      ]
     },
     "execution_count": 22,
     "metadata": {},
     "output_type": "execute_result"
    }
   ],
   "source": [
    "# Change the index of the data\n",
    "df.set_index(\"date_time\", inplace = True)\n",
    "df.head()"
   ]
  },
  {
   "cell_type": "markdown",
   "id": "c9fbce26",
   "metadata": {},
   "source": [
    "# Calculate the mean, median, maximum, minimum, variance and standard deviation of the number of customers"
   ]
  },
  {
   "cell_type": "code",
   "execution_count": 23,
   "id": "a546aac8",
   "metadata": {},
   "outputs": [],
   "source": [
    "import seaborn as sns\n",
    "import matplotlib.pyplot as plt"
   ]
  },
  {
   "cell_type": "code",
   "execution_count": 24,
   "id": "38119508",
   "metadata": {},
   "outputs": [
    {
     "data": {
      "text/html": [
       "<div>\n",
       "<style scoped>\n",
       "    .dataframe tbody tr th:only-of-type {\n",
       "        vertical-align: middle;\n",
       "    }\n",
       "\n",
       "    .dataframe tbody tr th {\n",
       "        vertical-align: top;\n",
       "    }\n",
       "\n",
       "    .dataframe thead th {\n",
       "        text-align: right;\n",
       "    }\n",
       "</style>\n",
       "<table border=\"1\" class=\"dataframe\">\n",
       "  <thead>\n",
       "    <tr style=\"text-align: right;\">\n",
       "      <th></th>\n",
       "      <th>No_of_customers</th>\n",
       "      <th>hour</th>\n",
       "    </tr>\n",
       "  </thead>\n",
       "  <tbody>\n",
       "    <tr>\n",
       "      <th>count</th>\n",
       "      <td>30.000000</td>\n",
       "      <td>30.000000</td>\n",
       "    </tr>\n",
       "    <tr>\n",
       "      <th>mean</th>\n",
       "      <td>143.100000</td>\n",
       "      <td>12.300000</td>\n",
       "    </tr>\n",
       "    <tr>\n",
       "      <th>std</th>\n",
       "      <td>42.911577</td>\n",
       "      <td>2.692903</td>\n",
       "    </tr>\n",
       "    <tr>\n",
       "      <th>min</th>\n",
       "      <td>54.000000</td>\n",
       "      <td>8.000000</td>\n",
       "    </tr>\n",
       "    <tr>\n",
       "      <th>25%</th>\n",
       "      <td>123.750000</td>\n",
       "      <td>10.250000</td>\n",
       "    </tr>\n",
       "    <tr>\n",
       "      <th>50%</th>\n",
       "      <td>148.500000</td>\n",
       "      <td>13.000000</td>\n",
       "    </tr>\n",
       "    <tr>\n",
       "      <th>75%</th>\n",
       "      <td>171.750000</td>\n",
       "      <td>14.000000</td>\n",
       "    </tr>\n",
       "    <tr>\n",
       "      <th>max</th>\n",
       "      <td>209.000000</td>\n",
       "      <td>16.000000</td>\n",
       "    </tr>\n",
       "  </tbody>\n",
       "</table>\n",
       "</div>"
      ],
      "text/plain": [
       "       No_of_customers       hour\n",
       "count        30.000000  30.000000\n",
       "mean        143.100000  12.300000\n",
       "std          42.911577   2.692903\n",
       "min          54.000000   8.000000\n",
       "25%         123.750000  10.250000\n",
       "50%         148.500000  13.000000\n",
       "75%         171.750000  14.000000\n",
       "max         209.000000  16.000000"
      ]
     },
     "execution_count": 24,
     "metadata": {},
     "output_type": "execute_result"
    }
   ],
   "source": [
    "# Calculate basic statistics\n",
    "df.describe()"
   ]
  },
  {
   "cell_type": "code",
   "execution_count": 25,
   "id": "d7c92951",
   "metadata": {},
   "outputs": [
    {
     "name": "stdout",
     "output_type": "stream",
     "text": [
      "Mean number of customers per day of the week:\n",
      "day\n",
      "Fri    136.25\n",
      "Mon    136.00\n",
      "Sat    139.75\n",
      "Sun    139.60\n",
      "Thu    155.00\n",
      "Tue    148.00\n",
      "Wed    149.75\n",
      "Name: No_of_customers, dtype: float64\n",
      "Mean number of customers per hour of the day:\n",
      "hour\n",
      "8     133.000000\n",
      "9      60.666667\n",
      "10     73.000000\n",
      "11    116.333333\n",
      "12    132.666667\n",
      "13    162.000000\n",
      "14    190.000000\n",
      "15    174.666667\n",
      "16    159.250000\n",
      "Name: No_of_customers, dtype: float64\n",
      "Mean number of customers per time period:\n",
      "period\n",
      "AM    103.272727\n",
      "PM    166.157895\n",
      "Name: No_of_customers, dtype: float64\n"
     ]
    }
   ],
   "source": [
    "# Calculate the mean number of customers per day of the week\n",
    "mean_customers_per_day_of_week = df.groupby('day')['No_of_customers'].mean()\n",
    "\n",
    "# Calculate the mean number of customers per hour of the day\n",
    "mean_customers_per_hour_of_day = df.groupby('hour')['No_of_customers'].mean()\n",
    "\n",
    "# Calculate the mean number of customers per time period\n",
    "mean_customers_per_time_period = df.groupby('period')['No_of_customers'].mean()\n",
    "\n",
    "# Print the results\n",
    "print('Mean number of customers per day of the week:')\n",
    "print(mean_customers_per_day_of_week)\n",
    "\n",
    "print('Mean number of customers per hour of the day:')\n",
    "print(mean_customers_per_hour_of_day)\n",
    "\n",
    "print('Mean number of customers per time period:')\n",
    "print(mean_customers_per_time_period)"
   ]
  },
  {
   "cell_type": "code",
   "execution_count": 26,
   "id": "81e9d5a0",
   "metadata": {},
   "outputs": [
    {
     "name": "stdout",
     "output_type": "stream",
     "text": [
      "Median number of customers per day of the week:\n",
      "day\n",
      "Fri    143.0\n",
      "Mon    126.0\n",
      "Sat    144.0\n",
      "Sun    130.0\n",
      "Thu    149.0\n",
      "Tue    160.0\n",
      "Wed    158.0\n",
      "Name: No_of_customers, dtype: float64\n",
      "Median number of customers per hour of the day:\n",
      "hour\n",
      "8     131.5\n",
      "9      63.0\n",
      "10     73.0\n",
      "11    113.0\n",
      "12    126.0\n",
      "13    164.5\n",
      "14    189.0\n",
      "15    161.0\n",
      "16    158.5\n",
      "Name: No_of_customers, dtype: float64\n",
      "Median number of customers per time period:\n",
      "period\n",
      "AM    113.0\n",
      "PM    170.0\n",
      "Name: No_of_customers, dtype: float64\n"
     ]
    }
   ],
   "source": [
    "# Calculate the median number of customers per day of the week\n",
    "med_customers_per_day_of_week = df.groupby('day')['No_of_customers'].median()\n",
    "\n",
    "# Calculate the median number of customers per hour of the day\n",
    "med_customers_per_hour_of_day = df.groupby('hour')['No_of_customers'].median()\n",
    "\n",
    "# Calculate the median number of customers per time period\n",
    "med_customers_per_time_period = df.groupby('period')['No_of_customers'].median()\n",
    "\n",
    "# Print the results\n",
    "print('Median number of customers per day of the week:')\n",
    "print(med_customers_per_day_of_week)\n",
    "\n",
    "print('Median number of customers per hour of the day:')\n",
    "print(med_customers_per_hour_of_day)\n",
    "\n",
    "print('Median number of customers per time period:')\n",
    "print(med_customers_per_time_period)"
   ]
  },
  {
   "cell_type": "code",
   "execution_count": 27,
   "id": "89c7cccc",
   "metadata": {},
   "outputs": [
    {
     "name": "stdout",
     "output_type": "stream",
     "text": [
      "Minimum number of customers per day of the week:\n",
      "day\n",
      "Fri     54\n",
      "Mon     73\n",
      "Sat     63\n",
      "Sun     65\n",
      "Thu    133\n",
      "Tue     92\n",
      "Wed    113\n",
      "Name: No_of_customers, dtype: int64\n",
      "Minimum number of customers per hour of the day:\n",
      "hour\n",
      "8     114\n",
      "9      54\n",
      "10     73\n",
      "11     92\n",
      "12    123\n",
      "13    148\n",
      "14    172\n",
      "15    154\n",
      "16    129\n",
      "Name: No_of_customers, dtype: int64\n",
      "Minimum number of customers per time period:\n",
      "period\n",
      "AM     54\n",
      "PM    123\n",
      "Name: No_of_customers, dtype: int64\n"
     ]
    }
   ],
   "source": [
    "# Calculate the minimum number of customers per day of the week\n",
    "min_customers_per_day_of_week = df.groupby('day')['No_of_customers'].min()\n",
    "\n",
    "# Calculate the minimum number of customers per hour of the day\n",
    "min_customers_per_hour_of_day = df.groupby('hour')['No_of_customers'].min()\n",
    "\n",
    "# Calculate the minimum number of customers per time period\n",
    "min_customers_per_time_period = df.groupby('period')['No_of_customers'].min()\n",
    "\n",
    "# Print the results\n",
    "print('Minimum number of customers per day of the week:')\n",
    "print(min_customers_per_day_of_week)\n",
    "\n",
    "print('Minimum number of customers per hour of the day:')\n",
    "print(min_customers_per_hour_of_day)\n",
    "\n",
    "print('Minimum number of customers per time period:')\n",
    "print(min_customers_per_time_period)"
   ]
  },
  {
   "cell_type": "code",
   "execution_count": 28,
   "id": "8760ce78",
   "metadata": {},
   "outputs": [
    {
     "name": "stdout",
     "output_type": "stream",
     "text": [
      "Maximum number of customers per day of the week:\n",
      "day\n",
      "Fri    205\n",
      "Mon    191\n",
      "Sat    208\n",
      "Sun    209\n",
      "Thu    189\n",
      "Tue    180\n",
      "Wed    170\n",
      "Name: No_of_customers, dtype: int64\n",
      "Maximum number of customers per hour of the day:\n",
      "hour\n",
      "8     155\n",
      "9      65\n",
      "10     73\n",
      "11    144\n",
      "12    149\n",
      "13    171\n",
      "14    208\n",
      "15    209\n",
      "16    191\n",
      "Name: No_of_customers, dtype: int64\n",
      "Maximum number of customers per time period:\n",
      "period\n",
      "AM    155\n",
      "PM    209\n",
      "Name: No_of_customers, dtype: int64\n"
     ]
    }
   ],
   "source": [
    "# Calculate the maximum number of customers per day of the week\n",
    "max_customers_per_day_of_week = df.groupby('day')['No_of_customers'].max()\n",
    "\n",
    "# Calculate the maximum number of customers per hour of the day\n",
    "max_customers_per_hour_of_day = df.groupby('hour')['No_of_customers'].max()\n",
    "\n",
    "# Calculate the maximum number of customers per time period\n",
    "max_customers_per_time_period = df.groupby('period')['No_of_customers'].max()\n",
    "\n",
    "# Print the results\n",
    "print('Maximum number of customers per day of the week:')\n",
    "print(max_customers_per_day_of_week)\n",
    "\n",
    "print('Maximum number of customers per hour of the day:')\n",
    "print(max_customers_per_hour_of_day)\n",
    "\n",
    "print('Maximum number of customers per time period:')\n",
    "print(max_customers_per_time_period)"
   ]
  },
  {
   "cell_type": "code",
   "execution_count": 29,
   "id": "fffff796",
   "metadata": {},
   "outputs": [
    {
     "name": "stdout",
     "output_type": "stream",
     "text": [
      "Variance of customers per day of the week:\n",
      "day\n",
      "Fri    3884.916667\n",
      "Mon    2294.500000\n",
      "Sat    3678.250000\n",
      "Sun    2933.800000\n",
      "Thu     587.333333\n",
      "Tue    1578.666667\n",
      "Wed     638.250000\n",
      "Name: No_of_customers, dtype: float64\n",
      "Variance of customers per hour of the day:\n",
      "hour\n",
      "8     284.666667\n",
      "9      34.333333\n",
      "10           NaN\n",
      "11    684.333333\n",
      "12    202.333333\n",
      "13    116.666667\n",
      "14    267.500000\n",
      "15    896.333333\n",
      "16    949.583333\n",
      "Name: No_of_customers, dtype: float64\n",
      "Variance of customers per time period:\n",
      "period\n",
      "AM    1270.018182\n",
      "PM     730.584795\n",
      "Name: No_of_customers, dtype: float64\n"
     ]
    }
   ],
   "source": [
    "# Calculate the variance of customers per day of the week\n",
    "var_customers_per_day_of_week = df.groupby('day')['No_of_customers'].var()\n",
    "\n",
    "# Calculate the variance of customers per hour of the day\n",
    "var_customers_per_hour_of_day = df.groupby('hour')['No_of_customers'].var()\n",
    "\n",
    "# Calculate the variance of customers per time period\n",
    "var_customers_per_time_period = df.groupby('period')['No_of_customers'].var()\n",
    "\n",
    "# Print the results\n",
    "print('Variance of customers per day of the week:')\n",
    "print(var_customers_per_day_of_week)\n",
    "\n",
    "print('Variance of customers per hour of the day:')\n",
    "print(var_customers_per_hour_of_day)\n",
    "\n",
    "print('Variance of customers per time period:')\n",
    "print(var_customers_per_time_period)"
   ]
  },
  {
   "cell_type": "code",
   "execution_count": 30,
   "id": "b65d88ef",
   "metadata": {},
   "outputs": [
    {
     "name": "stdout",
     "output_type": "stream",
     "text": [
      "Standard deviation of customers per day of the week:\n",
      "day\n",
      "Fri    62.329100\n",
      "Mon    47.900939\n",
      "Sat    60.648578\n",
      "Sun    54.164564\n",
      "Thu    24.234961\n",
      "Tue    39.732438\n",
      "Wed    25.263610\n",
      "Name: No_of_customers, dtype: float64\n",
      "Standard deviation of customers per hour of the day:\n",
      "hour\n",
      "8     16.872068\n",
      "9      5.859465\n",
      "10          NaN\n",
      "11    26.159766\n",
      "12    14.224392\n",
      "13    10.801234\n",
      "14    16.355427\n",
      "15    29.938827\n",
      "16    30.815310\n",
      "Name: No_of_customers, dtype: float64\n",
      "Standard deviation of customers per time period:\n",
      "period\n",
      "AM    35.637314\n",
      "PM    27.029332\n",
      "Name: No_of_customers, dtype: float64\n"
     ]
    }
   ],
   "source": [
    "# Calculate the standard deviation of customers per day of the week\n",
    "std_customers_per_day_of_week = df.groupby('day')['No_of_customers'].std()\n",
    "\n",
    "# Calculate the standard deviation of customers per hour of the day\n",
    "std_customers_per_hour_of_day = df.groupby('hour')['No_of_customers'].std()\n",
    "\n",
    "# Calculate the standard deviation of customers per time period\n",
    "std_customers_per_time_period = df.groupby('period')['No_of_customers'].std()\n",
    "\n",
    "# Print the results\n",
    "print('Standard deviation of customers per day of the week:')\n",
    "print(std_customers_per_day_of_week)\n",
    "\n",
    "print('Standard deviation of customers per hour of the day:')\n",
    "print(std_customers_per_hour_of_day)\n",
    "\n",
    "print('Standard deviation of customers per time period:')\n",
    "print(std_customers_per_time_period)"
   ]
  },
  {
   "cell_type": "code",
   "execution_count": 31,
   "id": "5cf1d071",
   "metadata": {},
   "outputs": [
    {
     "data": {
      "text/plain": [
       "Text(0.5, 1.0, 'Number of Customers')"
      ]
     },
     "execution_count": 31,
     "metadata": {},
     "output_type": "execute_result"
    },
    {
     "data": {
      "image/png": "[encoded data removed]",
      "text/plain": [
       "<Figure size 640x480 with 1 Axes>"
      ]
     },
     "metadata": {},
     "output_type": "display_data"
    }
   ],
   "source": [
    "# Explore the data visually\n",
    "# Create a histogram to show the number of customers \n",
    "sns.histplot(df['No_of_customers'], bins = 50, kde = True)\n",
    "plt.xlabel(\"Customers\")\n",
    "plt.ylabel(\"Frequency\")\n",
    "plt.title('Number of Customers')"
   ]
  },
  {
   "cell_type": "markdown",
   "id": "2eae5180",
   "metadata": {},
   "source": [
    "The graph shows that the number of customers who visit the supermarket during the month range between 50 to 210. This suggests that the supermarket had a varying level of customer traffic throughout the month. Within this range, majority of them fall between 120 to 180. This means that during most days of the month, the supermarket attracted a substantial number of customers within this range."
   ]
  },
  {
   "cell_type": "code",
   "execution_count": 32,
   "id": "f8ce2217",
   "metadata": {},
   "outputs": [
    {
     "data": {
      "text/plain": [
       "Text(0.5, 1.0, 'Number of Customers by Period (AM/PM)')"
      ]
     },
     "execution_count": 32,
     "metadata": {},
     "output_type": "execute_result"
    },
    {
     "data": {
      "image/png": "[encoded data removed]",
      "text/plain": [
       "<Figure size 640x480 with 1 Axes>"
      ]
     },
     "metadata": {},
     "output_type": "display_data"
    }
   ],
   "source": [
    "# Create a box plot to show the number of customers by period\n",
    "sns.boxplot(x='period', y='No_of_customers', showmeans=True, data=df, palette='bright')\n",
    "plt.xlabel(\"Period\")\n",
    "plt.ylabel(\"Number of Customers\")\n",
    "plt.title('Number of Customers by Period (AM/PM)')"
   ]
  },
  {
   "cell_type": "markdown",
   "id": "ebe132f2",
   "metadata": {},
   "source": [
    "The above graph depicts the number of customers by period. Majority of the customers engage in shopping during the PM hours as opposed to AM hours as visible by the median value which is higher in the PM hours (170 vs 113). This indicates that customers tend to favor shopping in the afternoon over morning after their workday finishes. The range is however, broader during the AM hours which indicates that the customers vary quite considerably during these hours as compared to the PM hours. It can also be noticed that the number of customers consistently increase in the afternoon.  "
   ]
  },
  {
   "cell_type": "code",
   "execution_count": 33,
   "id": "297e9155",
   "metadata": {},
   "outputs": [
    {
     "data": {
      "text/plain": [
       "Text(0.5, 1.0, 'Number of Customers by Hour')"
      ]
     },
     "execution_count": 33,
     "metadata": {},
     "output_type": "execute_result"
    },
    {
     "data": {
      "image/png": "[encoded data removed]",
      "text/plain": [
       "<Figure size 571.5x500 with 1 Axes>"
      ]
     },
     "metadata": {},
     "output_type": "display_data"
    }
   ],
   "source": [
    "# Create a scatter plot to show the number of customers by hour\n",
    "sns.relplot(x='hour', y='No_of_customers', hue='period', data=df)\n",
    "plt.xlabel(\"Hour\")\n",
    "plt.ylabel(\"Number of Customers\")\n",
    "plt.title('Number of Customers by Hour')"
   ]
  },
  {
   "cell_type": "markdown",
   "id": "b11ddece",
   "metadata": {},
   "source": [
    "The above scatter plot illustrates the number of customers by hour. There is a noticeable trend in customer numbers throughout the day. It begins with 8 AM where the number of customers are high (between 110 to 150) and significantly reduces from 9 - 10 AM to between 50 to 70. This fluctuation is mainly due to customers visiting the supermarket to buy breakfast before departing for work. The count increases after 12 PM as the day progresses reaching a peak at 2 PM during lunch hours where the it goes beyond 200 after which it declines steadily. "
   ]
  },
  {
   "cell_type": "code",
   "execution_count": 34,
   "id": "1be21ac3",
   "metadata": {},
   "outputs": [
    {
     "data": {
      "text/plain": [
       "Text(0.5, 1.0, 'Number of Customers by Day')"
      ]
     },
     "execution_count": 34,
     "metadata": {},
     "output_type": "execute_result"
    },
    {
     "data": {
      "image/png": "[encoded data removed]",
      "text/plain": [
       "<Figure size 640x480 with 1 Axes>"
      ]
     },
     "metadata": {},
     "output_type": "display_data"
    }
   ],
   "source": [
    "# Create a box plot to show the number of customers by day\n",
    "sns.boxplot(x='day', y='No_of_customers', showmeans=True, data=df, palette='bright')\n",
    "plt.xlabel(\"Day\")\n",
    "plt.ylabel(\"Number of Customers\")\n",
    "plt.title('Number of Customers by Day')"
   ]
  },
  {
   "cell_type": "markdown",
   "id": "9a5e2a82",
   "metadata": {},
   "source": [
    "The graph depicts the number of customers by day. As shown above, majority of the customers who visited the supermarket were on Tuesdays as it has the highest median value (160), closely followed by Wednesdays (158). Both Wednesdays and Thursdays have low ranges as compared to the rest of the days which indicates consistent buying behaviour. However, there seems to be an outlier on Wednesday which signifies low number of customers than average on that particular day. This may possibly be due to an unexpected activity. Additionally, the lowest customer activity level is recorded on Sundays and Mondays where the median tends to be the lowest (130 and below). Moreover, the interquartile ranges of Saturdays, Sundays and Mondays are wider than other days. This suggests significant variation or spread of the number of customers for those days."
   ]
  }
 ],
 "metadata": {
  "kernelspec": {
   "display_name": "Python 3 (ipykernel)",
   "language": "python",
   "name": "python3"
  },
  "language_info": {
   "codemirror_mode": {
    "name": "ipython",
    "version": 3
   },
   "file_extension": ".py",
   "mimetype": "text/x-python",
   "name": "python",
   "nbconvert_exporter": "python",
   "pygments_lexer": "ipython3",
   "version": "3.11.4"
  }
 },
 "nbformat": 4,
 "nbformat_minor": 5
}
